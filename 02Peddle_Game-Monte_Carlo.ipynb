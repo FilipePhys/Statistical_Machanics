{
 "cells": [
  {
   "cell_type": "code",
   "execution_count": 1,
   "metadata": {},
   "outputs": [],
   "source": [
    "import random\n",
    "import time\n",
    "import numpy as np\n",
    "import matplotlib.pyplot as plt"
   ]
  },
  {
   "cell_type": "markdown",
   "metadata": {},
   "source": [
    "# Monte Carlo - Peddle Game"
   ]
  },
  {
   "cell_type": "markdown",
   "metadata": {},
   "source": [
    "Now we have a discrete system who we, randomly, could go to up, right, down or left. If the peddle are in the boundary and the path-random send out side it should stay in the same place. All the possibilites is iqual."
   ]
  },
  {
   "cell_type": "code",
   "execution_count": 2,
   "metadata": {},
   "outputs": [
    {
     "data": {
      "text/plain": [
       "array([[0, 1, 2],\n",
       "       [3, 4, 5],\n",
       "       [6, 7, 8]])"
      ]
     },
     "execution_count": 2,
     "metadata": {},
     "output_type": "execute_result"
    }
   ],
   "source": [
    "def matrix(L):\n",
    "    #neighbor #--------------------#\n",
    "    neighbor, count  = np.zeros((L,L),dtype=int), 0\n",
    "    for i in range(L):\n",
    "        for j in range(L):\n",
    "            neighbor[i,j] = count\n",
    "            count +=1\n",
    "    #neighbor #--------------------#\n",
    "    return neighbor\n",
    "matrix(3)"
   ]
  },
  {
   "cell_type": "code",
   "execution_count": 3,
   "metadata": {},
   "outputs": [
    {
     "data": {
      "text/plain": [
       "{0: 1, 1: 4, 4: 1}"
      ]
     },
     "execution_count": 3,
     "metadata": {},
     "output_type": "execute_result"
    }
   ],
   "source": [
    "def Peddle(L, t_max, l=0, c=0, t=0): #\"L\" gives the size; \"t_max\" how much time it has trasition; \n",
    "                                     #\"l,c\" gives the cell that it'll start and \"t\"is the time count\n",
    "    neighbor = matrix(L) #Matrix neighbor #--------------------#\n",
    "    \n",
    "    maping = np.zeros(t_max+1,dtype=int)\n",
    "    maping[0] = neighbor[l,c]          \n",
    "    \n",
    "    while t < t_max:\n",
    "        new = random.sample(['UP','DOWN','LEFT','RIGHT'],1)[0]\n",
    "        if  new == 'UP' and l != 0:\n",
    "            l = l-1\n",
    "        if  new == 'DOWN' and l != L-1:\n",
    "            l = l+1\n",
    "        if  new == 'LEFT' and c != 0:\n",
    "            c = c-1\n",
    "        if  new == 'RIGHT' and c != L-1:\n",
    "            c = c+1\n",
    "        t += 1\n",
    "        maping[t] = neighbor[l,c]  \n",
    "    \n",
    "    value , times = np.unique(maping, return_counts=True)\n",
    "    VT = dict(zip(value , times))\n",
    "    return VT\n",
    "Peddle(L=3, t_max=5)"
   ]
  },
  {
   "cell_type": "markdown",
   "metadata": {},
   "source": [
    "# Anbalanced - Peddle Game TERMINAR"
   ]
  },
  {
   "cell_type": "markdown",
   "metadata": {},
   "source": [
    "Anbalanced case that gives different transitions proababilits to change places."
   ]
  },
  {
   "cell_type": "code",
   "execution_count": 10,
   "metadata": {},
   "outputs": [
    {
     "name": "stdout",
     "output_type": "stream",
     "text": [
      "comparison:  weight, histogram\n",
      "site:  0  weight:  3.0  histo:  2.98293\n",
      "site:  1  weight:  0.5  histo:  0.50439\n",
      "site:  2  weight:  1.0  histo:  1.01378\n",
      "site:  3  weight:  0.5  histo:  0.49893\n",
      "site:  4  weight:  1.0  histo:  0.99919\n",
      "site:  5  weight:  0.5  histo:  0.50051\n",
      "site:  6  weight:  2.0  histo:  1.98559\n",
      "site:  7  weight:  0.5  histo:  0.50308\n",
      "site:  8  weight:  1.0  histo:  1.0116\n"
     ]
    }
   ],
   "source": [
    "def neighbors(L=3):\n",
    "    def matrix(L):\n",
    "        #neighbor #--------------------#\n",
    "        neighbor, count  = np.zeros((L+2,L+2),dtype=int), 0\n",
    "        for i in range(L):\n",
    "            for j in range(L):\n",
    "                neighbor[i+1,j+1] = count\n",
    "                count +=1\n",
    "        #Boundary considitions\n",
    "        neighbor[0,:] = neighbor[1,:]\n",
    "        neighbor[L+1,:] = neighbor[L,:]\n",
    "        neighbor[1:L+1,0] =neighbor[1:L+1,1]\n",
    "        neighbor[1:L+1,L+1] =neighbor[1:L+1,L]\n",
    "        return neighbor\n",
    "    \n",
    "    M, MT = matrix(L) , np.zeros((L*L,L*L),dtype=np.float64)\n",
    "    neighbors = np.zeros((L*L,4))\n",
    "    \n",
    "    for k in range(L):\n",
    "        neighbors[k  ] = [M[0,1+k],M[1,0+k],M[1,2+k],M[2,1+k] ]\n",
    "    for k in range(L):\n",
    "        neighbors[k+3] = [M[0+1,1+k],M[1+1,0+k],M[1+1,2+k],M[2+1,1+k] ]\n",
    "    for k in range(L):\n",
    "        neighbors[k+6] = [M[0+2,1+k],M[1+2,0+k],M[1+2,2+k],M[2+2,1+k] ]\n",
    "\n",
    "    return neighbors\n",
    "\n",
    "\n",
    "histo = [0, 0, 0, 0, 0, 0, 0, 0, 0]\n",
    "neighbor =  [[1, 3, 0, 0], [2, 4, 0, 1], [2, 5, 1, 2],\n",
    "             [4, 6, 3, 0], [5, 7, 3, 1], [5, 8, 4, 2],\n",
    "             [7, 6, 6, 3], [8, 7, 6, 4], [8, 8, 7, 5]]\n",
    "weight = [3.0, 0.5, 1.0, 0.5, 1.0, 0.5, 2.0, 0.5, 1.0]\n",
    "pos = 8\n",
    "n_iter = 1000000\n",
    "for iter in range(n_iter):\n",
    "    new_pos = neighbor[pos][random.randint(0, 3)]\n",
    "    if random.random() < weight[new_pos] / weight[pos]:\n",
    "        pos = new_pos\n",
    "    histo[pos] += 1 \n",
    "\n",
    "norm = sum(weight)\n",
    "print ('comparison:  weight, histogram')\n",
    "for k in range(9): \n",
    "    print ('site: ', k,' weight: ', weight[k], ' histo: ', norm * histo[k] / float(n_iter))"
   ]
  },
  {
   "cell_type": "code",
   "execution_count": 11,
   "metadata": {},
   "outputs": [
    {
     "data": {
      "text/plain": [
       "array([[0., 0., 1., 3.],\n",
       "       [1., 0., 2., 4.],\n",
       "       [2., 1., 2., 5.],\n",
       "       [0., 3., 4., 6.],\n",
       "       [1., 3., 5., 7.],\n",
       "       [2., 4., 5., 8.],\n",
       "       [3., 6., 7., 6.],\n",
       "       [4., 6., 8., 7.],\n",
       "       [5., 7., 8., 8.]])"
      ]
     },
     "execution_count": 11,
     "metadata": {},
     "output_type": "execute_result"
    }
   ],
   "source": [
    "neighbors(L=3)"
   ]
  },
  {
   "cell_type": "markdown",
   "metadata": {},
   "source": [
    "# Peddle Game Multirun and Probabilits"
   ]
  },
  {
   "cell_type": "markdown",
   "metadata": {},
   "source": [
    "##-------------------------------------------------------------------------\n",
    "\n",
    "This gige the last position for N(repetition) cases that you want for time!\n",
    "##-------------------------------------------------------------------------"
   ]
  },
  {
   "cell_type": "code",
   "execution_count": 5,
   "metadata": {},
   "outputs": [
    {
     "data": {
      "text/plain": [
       "(array([0., 6.]), array([1, 2]), array([0.33333333, 0.66666667]))"
      ]
     },
     "execution_count": 5,
     "metadata": {},
     "output_type": "execute_result"
    }
   ],
   "source": [
    "def Peddle_N(L, t_max, repetition, l=0, c=0, t=0): \n",
    "    neighbor, lin, col = matrix(L), l, c #lin and col represent the condition that start all repetition in the same site    \n",
    "    \n",
    "    allmaping = np.zeros((repetition,t_max+1))\n",
    "    #cordenates = np.zeros((repetition,2))\n",
    "    #--------------\n",
    "    for i in range(repetition):\n",
    "        maping = np.zeros(t_max+1,dtype=int) #it'll save all path in order \n",
    "        maping[0] = neighbor[l,c] # save the first position in this case neighbor[0,0] = 0 \n",
    "        #--------------\n",
    "        while t < t_max:\n",
    "            new = random.sample(['UP','DOWN','LEFT','RIGHT'],1)[0]\n",
    "            if  new == 'UP' and l != 0:\n",
    "                l = l-1\n",
    "            if  new == 'DOWN' and l != L-1:\n",
    "                l = l+1\n",
    "            if  new == 'LEFT' and c != 0:\n",
    "                c = c-1\n",
    "            if  new == 'RIGHT' and c != L-1:\n",
    "                c = c+1\n",
    "            t += 1\n",
    "            maping[t] = neighbor[l,c]\n",
    "        #--------------\n",
    "        #cordenates[i] = [l,c]\n",
    "        allmaping[i] = maping\n",
    "        l, c, t = lin, col, 0\n",
    "    #--------------\n",
    "\n",
    "    value , times = np.unique(allmaping[:,t_max], return_counts=True)\n",
    "    \n",
    "    return value, times, times/repetition\n",
    "Peddle_N(L=3, t_max=3, repetition=3)\n"
   ]
  },
  {
   "cell_type": "code",
   "execution_count": 6,
   "metadata": {},
   "outputs": [
    {
     "data": {
      "image/png": "[encoded data removed]",
      "text/plain": [
       "<Figure size 432x288 with 1 Axes>"
      ]
     },
     "metadata": {
      "needs_background": "light"
     },
     "output_type": "display_data"
    },
    {
     "data": {
      "text/plain": [
       "0.37517452239990234"
      ]
     },
     "execution_count": 6,
     "metadata": {},
     "output_type": "execute_result"
    }
   ],
   "source": [
    "def graf_histbar(L, t_max, repetition, l=0, c=0, t=0):\n",
    "    ini = time.time()\n",
    "    peddle = Peddle_N(L, t_max, repetition, l=0, c=0, t=0)\n",
    "    #print(peddle)\n",
    "    plt.bar(peddle[0], peddle[1], color='b')\n",
    "    plt.plot([-.5,L*L-0.5],[repetition/(L*L),repetition/(L*L)], 'red')\n",
    "    #plt.ylim(top=1)\n",
    "    plt.show()\n",
    "    fim = time.time()\n",
    "    return fim-ini\n",
    "graf_histbar(L=3, t_max=9, repetition=10000, l=0, c=0, t=0)"
   ]
  },
  {
   "cell_type": "code",
   "execution_count": 7,
   "metadata": {},
   "outputs": [
    {
     "name": "stdout",
     "output_type": "stream",
     "text": [
      "[[0.37664 0.18687 0.06316]\n",
      " [0.18542 0.12488 0.     ]\n",
      " [0.06303 0.      0.     ]]\n"
     ]
    },
    {
     "data": {
      "image/png": "[encoded data removed]",
      "text/plain": [
       "<Figure size 432x288 with 2 Axes>"
      ]
     },
     "metadata": {
      "needs_background": "light"
     },
     "output_type": "display_data"
    },
    {
     "data": {
      "text/plain": [
       "0.7695488929748535"
      ]
     },
     "execution_count": 7,
     "metadata": {},
     "output_type": "execute_result"
    }
   ],
   "source": [
    "def graf_histMat(L, t_max, repetition, l=0, c=0, t=0):\n",
    "    ini = time.time()\n",
    "    almostM = np.zeros(L*L)\n",
    "    M = np.zeros((L,L))\n",
    "    peddle = Peddle_N(L, t_max, repetition, l=0, c=0, t=0)\n",
    "    value, prob = peddle[0], peddle[2]\n",
    "    \n",
    "    for i, j in enumerate(value):\n",
    "        almostM[int(j)] = prob[i]\n",
    "    \n",
    "    M = almostM.reshape((L, L)) \n",
    "    print(M)           \n",
    "\n",
    "    plt.imshow(M, interpolation='nearest', vmin=0.0, vmax=1.0)\n",
    "    plt.set_cmap('hot')\n",
    "    plt.colorbar()\n",
    "    plt.title('t = '+str(t_max),fontsize=22)\n",
    "    #plt.savefig('3x3_pebble_run_'+str(t_max)+'.png')\n",
    "    plt.show()\n",
    "    fim = time.time()\n",
    "    return fim-ini\n",
    "graf_histMat(L=3, t_max=2, repetition=100000, l=0, c=0, t=0)"
   ]
  },
  {
   "cell_type": "markdown",
   "metadata": {},
   "source": [
    "# Peddle Game - the probability flows(no repetitions)"
   ]
  },
  {
   "cell_type": "code",
   "execution_count": 9,
   "metadata": {},
   "outputs": [
    {
     "data": {
      "text/plain": [
       "(array([3.]), array([1]), array([1.]))"
      ]
     },
     "execution_count": 9,
     "metadata": {},
     "output_type": "execute_result"
    }
   ],
   "source": [
    "def Peddle_N(L, t_max, repetition, l=0, c=0, t=0): \n",
    "    neighbor, lin, col = matrix(L), l, c #lin and col represent the condition that start all repetition in the same site    \n",
    "    \n",
    "    allmaping = np.zeros((repetition,t_max+1))\n",
    "    #cordenates = np.zeros((repetition,2))\n",
    "    #--------------\n",
    "    for i in range(repetition):\n",
    "        maping = np.zeros(t_max+1,dtype=int) #it'll save all path in order \n",
    "        maping[0] = neighbor[l,c] # save the first position in this case neighbor[0,0] = 0 \n",
    "        #--------------\n",
    "        while t < t_max:\n",
    "            new = random.sample(['UP','DOWN','LEFT','RIGHT'],1)[0]\n",
    "            if  new == 'UP' and l != 0:\n",
    "                l = l-1\n",
    "            if  new == 'DOWN' and l != L-1:\n",
    "                l = l+1\n",
    "            if  new == 'LEFT' and c != 0:\n",
    "                c = c-1\n",
    "            if  new == 'RIGHT' and c != L-1:\n",
    "                c = c+1\n",
    "            t += 1\n",
    "            maping[t] = neighbor[l,c]\n",
    "        #--------------\n",
    "        #cordenates[i] = [l,c]\n",
    "        allmaping[i] = maping\n",
    "        l, c, t = lin, col, 0\n",
    "    #--------------\n",
    "\n",
    "    value , times = np.unique(allmaping[:,t_max], return_counts=True)\n",
    "    \n",
    "    return value, times, times/repetition\n",
    "Peddle_N(L=3, t_max=2, repetition=1, l=0, c=0, t=0)"
   ]
  },
  {
   "cell_type": "code",
   "execution_count": null,
   "metadata": {},
   "outputs": [],
   "source": []
  }
 ],
 "metadata": {
  "kernelspec": {
   "display_name": "Python 3",
   "language": "python",
   "name": "python3"
  },
  "language_info": {
   "codemirror_mode": {
    "name": "ipython",
    "version": 3
   },
   "file_extension": ".py",
   "mimetype": "text/x-python",
   "name": "python",
   "nbconvert_exporter": "python",
   "pygments_lexer": "ipython3",
   "version": "3.7.3"
  }
 },
 "nbformat": 4,
 "nbformat_minor": 2
}
