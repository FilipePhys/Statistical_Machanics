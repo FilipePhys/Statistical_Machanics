{
 "cells": [
  {
   "cell_type": "code",
   "execution_count": 2,
   "metadata": {},
   "outputs": [],
   "source": [
    "import time\n",
    "import itertools\n",
    "import numpy as np\n",
    "import pandas as pd\n",
    "import os, math, pylab, random \n",
    "import matplotlib.pyplot as plt"
   ]
  },
  {
   "cell_type": "markdown",
   "metadata": {},
   "source": [
    "# Hard Disks Colisions"
   ]
  },
  {
   "cell_type": "markdown",
   "metadata": {},
   "source": [
    "The predictions of the next colisions\n",
    "\n",
    "$r(t) = r_0(t_0) + v (t-t_0)$ logo $t-t_0 = del_t = (r(t) - r_0(t_0) ) / v$\n",
    "\n",
    "The \"wall_time\" calcule the time of the next colision between the disk and the wall and \"pair_time\" betweem themself. thus, we need see which one happens first."
   ]
  },
  {
   "cell_type": "code",
   "execution_count": 3,
   "metadata": {},
   "outputs": [],
   "source": [
    "def wall_time(pos_a, vel_a, radius):\n",
    "    if vel_a > 0.0: #Hit the up or right wall\n",
    "        del_t = (1.0 - radius - pos_a) / vel_a #Time for next colision\n",
    "    elif vel_a < 0.0: #Hit the botton or left wall\n",
    "        del_t = (pos_a - radius) / abs(vel_a) #Time for next colision\n",
    "    else:\n",
    "        del_t = float('inf') #infinity\n",
    "    return del_t\n",
    "\n",
    "def pair_time(pos_a, vel_a, pos_b, vel_b, radius):\n",
    "    del_x    = [pos_b[0] - pos_a[0] , pos_b[1] - pos_a[1]]                #distance in x and y\n",
    "    del_x_sq =  del_x[0] ** 2 + del_x[1] ** 2                             #distance module \n",
    "    del_v    = [vel_b[0] - vel_a[0] , vel_b[1] - vel_a[1]]                #velocity sum   \n",
    "    del_v_sq =  del_v[0] ** 2 + del_v[1] ** 2                             #velocity mudule\n",
    "    scal     =  del_v[0] * del_x[0] + del_v[1] * del_x[1]\n",
    "    Upsilon  =  scal ** 2 - del_v_sq * ( del_x_sq - 4.0 * radius **2)\n",
    "    if Upsilon > 0.0 and scal < 0.0:\n",
    "        del_t = - (scal + math.sqrt(Upsilon)) / del_v_sq\n",
    "    else:\n",
    "        del_t = float('inf')\n",
    "    return del_t"
   ]
  },
  {
   "cell_type": "markdown",
   "metadata": {},
   "source": [
    "The \"inition_condition\" create N disks and test the overlap."
   ]
  },
  {
   "cell_type": "code",
   "execution_count": 4,
   "metadata": {},
   "outputs": [
    {
     "data": {
      "text/plain": [
       "(array([[0.41375524, 0.1565543 ],\n",
       "        [0.32679012, 0.62470589],\n",
       "        [0.88720867, 0.48796665],\n",
       "        [0.52586969, 0.87628846]]), array([[ 0.66746772,  0.94250941],\n",
       "        [ 0.20879327,  0.03313216],\n",
       "        [ 0.98741551, -0.72124215],\n",
       "        [-0.30244288, -0.372248  ]]))"
      ]
     },
     "execution_count": 4,
     "metadata": {},
     "output_type": "execute_result"
    }
   ],
   "source": [
    "def inition_condition(N, radius):\n",
    "    pairs = [(i, j) for i in range(N - 1) for j in range(i + 1, N)]\n",
    "    velocity = np.random.uniform(-1,1,size=(N,2))\n",
    "    \n",
    "    while True:\n",
    "        P = [(random.uniform(radius, 1.0 - radius), random.uniform(radius, 1.0 - radius)) for k in range(N)]\n",
    "        if  min(  (P[i][0] - P[j][0]) ** 2 + (P[i][1] - P[j][1]) ** 2 for i, j in pairs ) > 4.0 * radius ** 2: \n",
    "            break\n",
    "    return np.array(P), velocity\n",
    "inition_condition(4, .1)"
   ]
  },
  {
   "cell_type": "code",
   "execution_count": 5,
   "metadata": {},
   "outputs": [
    {
     "data": {
      "text/plain": [
       "[(0.5307147164019221, 0.3122997025611081),\n",
       " (0.3285415005863007, 0.603854839656712),\n",
       " (0.17121454485450024, 0.38504988517851396),\n",
       " (0.3336822954280174, 0.5974982197014573)]"
      ]
     },
     "execution_count": 5,
     "metadata": {},
     "output_type": "execute_result"
    }
   ],
   "source": [
    "sigma = 0.15\n",
    "P = [(random.uniform(sigma, 1.0 - sigma), random.uniform(sigma, 1.0 - sigma)) for k in range(4)]\n",
    "P"
   ]
  },
  {
   "cell_type": "markdown",
   "metadata": {},
   "source": [
    "## The Plot"
   ]
  },
  {
   "cell_type": "code",
   "execution_count": 6,
   "metadata": {},
   "outputs": [
    {
     "data": {
      "image/png": "[encoded data removed]",
      "text/plain": [
       "<Figure size 432x432 with 1 Axes>"
      ]
     },
     "metadata": {
      "needs_background": "light"
     },
     "output_type": "display_data"
    }
   ],
   "source": [
    "AV = inition_condition(4, .1)\n",
    "A,V = AV[0], AV[1]\n",
    "s = [4150 for n in range(4)]\n",
    "plt.figure(figsize=(6,6))\n",
    "plt.scatter(A[:,0],A[:,1],s=s)\n",
    "for i in range(len(V)):\n",
    "    origin = A[i] # origin point\n",
    "    plt.quiver(*origin, V[i,0], V[i,1])\n",
    "plt.xlim(0, 1) \n",
    "plt.ylim(top=1) \n",
    "plt.ylim(bottom=0)\n",
    "plt.grid()\n",
    "plt.show()"
   ]
  },
  {
   "cell_type": "markdown",
   "metadata": {},
   "source": [
    "## The Colisions"
   ]
  },
  {
   "cell_type": "markdown",
   "metadata": {},
   "source": [
    "Here, in single_pairs, we have the conditions that we need to use to test the colisions time"
   ]
  },
  {
   "cell_type": "code",
   "execution_count": 10,
   "metadata": {},
   "outputs": [
    {
     "data": {
      "text/plain": [
       "(array([[0, 0],\n",
       "        [0, 1],\n",
       "        [1, 0],\n",
       "        [1, 1],\n",
       "        [2, 0],\n",
       "        [2, 1],\n",
       "        [3, 0],\n",
       "        [3, 1]]), array([[0, 1],\n",
       "        [0, 2],\n",
       "        [0, 3],\n",
       "        [1, 2],\n",
       "        [1, 3],\n",
       "        [2, 3]]))"
      ]
     },
     "execution_count": 10,
     "metadata": {},
     "output_type": "execute_result"
    }
   ],
   "source": [
    "def single_pairs(n):\n",
    "    singles   = np.array([(i, j) for i in range(n) for j in range(2)])\n",
    "    pairs     = np.array([(i, j) for i in range(n - 1) for j in range(i + 1, n)])\n",
    "    \n",
    "    return singles, pairs\n",
    "single_pairs(4)"
   ]
  },
  {
   "cell_type": "code",
   "execution_count": 11,
   "metadata": {},
   "outputs": [],
   "source": [
    "def hard_disk_N_colision(n, events, sigma=0.10):\n",
    "    PV = inition_condition(n, sigma) \n",
    "    pos , vel = PV[0], PV[1]\n",
    "    singles, pairs   = single_pairs(n)[0], single_pairs(n)[1] #Construir essas funções\n",
    "    \n",
    "    data = np.concatenate((pos, vel), axis=1)\n",
    "    df = pd.DataFrame(data)\n",
    "    \n",
    "    t = 0\n",
    "    \n",
    "    for event in range(events):\n",
    "        wall_times = [wall_time(pos[k,l], vel[k,l], sigma)             for k, l in singles]\n",
    "        pair_times = [pair_time(pos[k], vel[k], pos[l], vel[l], sigma) for k, l in pairs]\n",
    "        next_event = min(wall_times + pair_times)\n",
    "        t += next_event\n",
    "    \n",
    "        for k, l in singles: pos[k][l] += vel[k][l] * next_event \n",
    "        \n",
    "        if min(wall_times) < min(pair_times):\n",
    "            collision_disk, direction = singles[wall_times.index(next_event)]\n",
    "            vel[collision_disk][direction] *= -1.0\n",
    "        else: \n",
    "            a, b = pairs[pair_times.index(next_event)]\n",
    "            del_x = [pos[b][0] - pos[a][0], pos[b][1] - pos[a][1]]\n",
    "            abs_x = math.sqrt(del_x[0] ** 2 + del_x[1] ** 2)\n",
    "            e_perp = [c / abs_x for c in del_x]\n",
    "            del_v = [vel[b][0] - vel[a][0], vel[b][1] - vel[a][1]]\n",
    "            scal = del_v[0] * e_perp[0] + del_v[1] * e_perp[1]\n",
    "            for k in range(2): \n",
    "                vel[a][k] += e_perp[k] * scal \n",
    "                vel[b][k] -= e_perp[k] * scal\n",
    "        \n",
    "        DF = np.concatenate( (pos, vel), axis=1)\n",
    "        df = pd.concat([df, pd.DataFrame(DF)], axis=0)\n",
    "    \n",
    "    return df"
   ]
  },
  {
   "cell_type": "code",
   "execution_count": 23,
   "metadata": {},
   "outputs": [],
   "source": [
    "DF = hard_disk_N_colision(n=4, events=3, sigma=0.10)\n",
    "df0 = DF[0:4]\n",
    "df1 = DF[8:12]"
   ]
  },
  {
   "cell_type": "code",
   "execution_count": 24,
   "metadata": {},
   "outputs": [],
   "source": [
    "x0, y0, vx0, vy0 = df0[0], df0[1], df0[2], df0[3]\n",
    "x1, y1, vx1, vy1 = df1[0], df1[1], df1[2], df1[3]"
   ]
  },
  {
   "cell_type": "code",
   "execution_count": 25,
   "metadata": {},
   "outputs": [
    {
     "data": {
      "image/png": "[encoded data removed]",
      "text/plain": [
       "<Figure size 216x216 with 1 Axes>"
      ]
     },
     "metadata": {
      "needs_background": "light"
     },
     "output_type": "display_data"
    }
   ],
   "source": [
    "s = [920 for n in range(4)]\n",
    "plt.figure(figsize=(3,3))\n",
    "plt.scatter(x0,y0,s=s)\n",
    "for i in range(len(V)):\n",
    "    origin = x0[i],y0[i] # origin point\n",
    "    plt.quiver(*origin, vx0[i], vy0[i])\n",
    "plt.scatter(x1,y1,s=s)\n",
    "for i in range(len(V)):\n",
    "    origin = x1[i],y1[i] # origin point\n",
    "    plt.quiver(*origin, vx1[i], vy1[i])\n",
    "plt.xlim(0, 1) \n",
    "plt.ylim(top=1) \n",
    "plt.ylim(bottom=0)\n",
    "plt.grid()\n",
    "plt.show()"
   ]
  },
  {
   "cell_type": "code",
   "execution_count": 94,
   "metadata": {},
   "outputs": [
    {
     "data": {
      "text/plain": [
       "array([ 0.35114648,  0.24256356,  0.03277608, -0.15901048])"
      ]
     },
     "execution_count": 94,
     "metadata": {},
     "output_type": "execute_result"
    }
   ],
   "source": []
  },
  {
   "cell_type": "code",
   "execution_count": null,
   "metadata": {},
   "outputs": [],
   "source": []
  }
 ],
 "metadata": {
  "kernelspec": {
   "display_name": "Python 3",
   "language": "python",
   "name": "python3"
  },
  "language_info": {
   "codemirror_mode": {
    "name": "ipython",
    "version": 3
   },
   "file_extension": ".py",
   "mimetype": "text/x-python",
   "name": "python",
   "nbconvert_exporter": "python",
   "pygments_lexer": "ipython3",
   "version": "3.7.3"
  }
 },
 "nbformat": 4,
 "nbformat_minor": 2
}
